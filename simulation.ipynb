{
 "cells": [
  {
   "cell_type": "markdown",
   "id": "47146e54",
   "metadata": {},
   "source": [
    "# Transitive versus Bridged Treatment Comparisons\n",
    "\n",
    "The following is a simulation study comparing transitive versus bridged treatment comparisons to compare different arms across two trials. The simulation in particular demonstrates the danger of effect heterogeneity when comparing across different trials and how bridged treatment comparisons offer a way to analytically adjust for these differences in a simplified setting. \n",
    "\n",
    "The transitive method compares the two trials directly by adding the risk differences of each trial together (as done in network meta-analysis), whereas the bridged treatment comparison allows for adjustment of observed differences between trial source populations. Further details on bridged treatment comparisons can be found in the following reference:\n",
    "\n",
    "Zivich PN, Cole SR, Edwards JK, Shook-Sa BE, Breskin A, & Hudgens MG. (2022). Bridged treatment comparisons: an illustrative application in HIV treatment. arXiv preprint arXiv:2206.04445.\n",
    "\n",
    "### Loading dependencies"
   ]
  },
  {
   "cell_type": "code",
   "execution_count": 1,
   "id": "27493b28",
   "metadata": {},
   "outputs": [
    {
     "name": "stdout",
     "output_type": "stream",
     "text": [
      "VERSIONS\n",
      "Python:      3.6.8 \n",
      "NumPy:       1.19.5\n",
      "Pandas:      1.1.5\n",
      "statsmodels: 0.12.2\n"
     ]
    }
   ],
   "source": [
    "import sys\n",
    "import numpy as np\n",
    "import pandas as pd\n",
    "import statsmodels.api as sm\n",
    "import matplotlib.pyplot as plt\n",
    "\n",
    "%matplotlib inline\n",
    "\n",
    "print(\"VERSIONS\")\n",
    "print('Python:     ', sys.version[0:6])\n",
    "print('NumPy:      ', np.__version__)\n",
    "print('Pandas:     ', pd.__version__)\n",
    "print('statsmodels:', sm.__version__)"
   ]
  },
  {
   "cell_type": "code",
   "execution_count": 2,
   "id": "55d57821",
   "metadata": {},
   "outputs": [],
   "source": [
    "from estimators import ClassicalEstimator, BridgeEstimator"
   ]
  },
  {
   "cell_type": "code",
   "execution_count": 3,
   "id": "812b46bd",
   "metadata": {},
   "outputs": [],
   "source": [
    "np.random.seed(7777777)"
   ]
  },
  {
   "cell_type": "markdown",
   "id": "6005ad58",
   "metadata": {},
   "source": [
    "Let $A$ indicate the randomly assigned treatment (0: placebo, 1: old version, 2: new version), $T$ indicate the event time, $X$ indicate age (0: young, 1: old), and $S$ indicate the study population (1: target, 0: secondary).\n",
    "\n",
    "In the simulation, the parameter of interest is risk difference for the event comparing $A=2$ (new version) versus $A=0$ (placebo). This parameter can be written as\n",
    "$$\\theta = \\Pr(T^2 < t) - \\Pr(T^0 < t)$$\n",
    "where $T^a$ is the potential outcome under $a$. This is equivalent to\n",
    "$$\\theta = \\left[\\Pr(T^2 < t) - \\Pr(T^1 < t)\\right] + \\left[\\Pr(T^1 < t) - \\Pr(T^0 < t)\\right]$$\n",
    "This latter form is used to derive both the transitive and bridged estimators.\n",
    "\n",
    "### Data generation\n",
    "Data is generated from a Weibull model (detailed in ``outcome_mechanism``) where there is heterogeneity by age. Further, the treatment impacts both the shape and scale parameters. \n",
    "\n",
    "The key distinction between the populations is that the target population consists of more younger individuals compared to the secondary population (i.e., there is more older individuals in the secondary data). As the age distribution differs between populations and the effect of the treatment differs by age, one expects there to be bias when ignoring age in the analysis."
   ]
  },
  {
   "cell_type": "code",
   "execution_count": 4,
   "id": "050f29fc",
   "metadata": {},
   "outputs": [],
   "source": [
    "def outcome_mechanism(data):\n",
    "    # Scale parameter for Weibull\n",
    "    lambda_ = np.exp(10.\n",
    "                     + 0.4 * (data['A'] == 1)\n",
    "                     + 1.5 * (data['A'] == 2)\n",
    "                     - 3 * data['X']\n",
    "                     - 0.2 * (data['A'] == 1) * data['X']\n",
    "                     - 0.5 * (data['A'] == 2) * data['X'])\n",
    "    # Shape parameter for Weibull\n",
    "    rho_ = 1.5 + 0.2 * (data['A'] == 1) - 0.2 * (data['A'] == 2)\n",
    "    # Simulating times from the Weibull model\n",
    "    time = lambda_ ** (1 / rho_) * np.random.weibull(a=rho_, size=data.shape[0])\n",
    "    return np.ceil(time).astype(int)\n",
    "\n",
    "\n",
    "def generate_truth(n):\n",
    "    # Generating the target population\n",
    "    d = pd.DataFrame()\n",
    "    d['X'] = np.random.binomial(n=1, p=0.4, size=n)\n",
    "    \n",
    "    # Simulating times under placebo\n",
    "    d['A'] = 0\n",
    "    y_a0 = outcome_mechanism(data=d)\n",
    "    \n",
    "    # Simulating times under new treatment version\n",
    "    d['A'] = 2\n",
    "    y_a2 = outcome_mechanism(data=d)\n",
    "    \n",
    "    # Computing the risk difference using the true times\n",
    "    true_rd = []\n",
    "    for t in range(0, 366, 1):                # For days 0-365\n",
    "        event_a0 = np.where(y_a0 <= t, 1, 0)  # ... event at t\n",
    "        risk_a0 = np.sum(event_a0) / n        # ... risk at t\n",
    "        event_a2 = np.where(y_a2 <= t, 1, 0)  # ... event at t\n",
    "        risk_a2 = np.sum(event_a2) / n        # ... risk at t\n",
    "        true_rd.append(risk_a2 - risk_a0)     # ... store RD\n",
    "    return np.array(true_rd)\n",
    "\n",
    "\n",
    "def generate_observed(n1, n0):\n",
    "    # Generate the active-comparator trial in target\n",
    "    d1 = pd.DataFrame()\n",
    "    d1['X'] = np.random.binomial(n=1, p=0.4, size=n1)\n",
    "    d1['A'] = np.random.binomial(n=1, p=0.5, size=n1) + 1\n",
    "    d1['T'] = outcome_mechanism(data=d1)\n",
    "    d1['delta'] = np.where(d1['T'] <= 365, 1, 0)\n",
    "    d1['T'] = np.where(d1['T'] <= 365, d1['T'], 365)\n",
    "    d1['S'] = 1\n",
    "    \n",
    "    # Generate the placebo-control trial in secondary\n",
    "    d0 = pd.DataFrame()\n",
    "    d0['X'] = np.random.binomial(n=1, p=0.66, size=n0)\n",
    "    d0['A'] = np.random.binomial(n=1, p=0.5, size=n0)\n",
    "    d0['T'] = outcome_mechanism(data=d0)\n",
    "    d0['delta'] = np.where(d0['T'] <= 365, 1, 0)\n",
    "    d0['T'] = np.where(d0['T'] <= 365, d0['T'], 365)\n",
    "    d0['S'] = 0\n",
    "    \n",
    "    # Return as a stacked data set\n",
    "    return pd.concat([d1, d0], axis=0, ignore_index=True).reset_index(drop=True)"
   ]
  },
  {
   "cell_type": "markdown",
   "id": "da35d766",
   "metadata": {},
   "source": [
    "The true risk difference over one-year is computed by simulating both potential outcomes for 5 million observations generated following the target population age distribution."
   ]
  },
  {
   "cell_type": "code",
   "execution_count": 5,
   "id": "b3d8d16a",
   "metadata": {},
   "outputs": [],
   "source": [
    "# Computing truth with 5 million observations\n",
    "truth = generate_truth(n=5000000)"
   ]
  },
  {
   "cell_type": "markdown",
   "id": "052cdb6d",
   "metadata": {},
   "source": [
    "### Simulation\n",
    "\n",
    "The following code runs the simulation. First, we create storage objects for the bias estimates. Additionally, the simulation will be ran for 5000 iterations."
   ]
  },
  {
   "cell_type": "code",
   "execution_count": 6,
   "id": "9815cc10",
   "metadata": {},
   "outputs": [],
   "source": [
    "# Iterations for simulation\n",
    "iterations = 5000\n",
    "\n",
    "# Storage for bias computations\n",
    "bias_classical = truth - truth\n",
    "bias_bridged = truth - truth"
   ]
  },
  {
   "cell_type": "markdown",
   "id": "2e6c1703",
   "metadata": {},
   "source": [
    "The following runs the simulation for trials of size 2000 for the specified number of iterations. As stated previously, the transitive estimator ignores the differences in age distribution between the two trials. The bridged treatment comparison instead uses inverse odds of sampling weights to account for differences in age. Specifically, the secondary population is reweighted to have the same marginal age distribution as the target population. Inverse odds of sampling weights are estimated using a logistic regression model. See the associated ``estimators.py`` file for implementation details."
   ]
  },
  {
   "cell_type": "code",
   "execution_count": 7,
   "id": "d473ab35",
   "metadata": {},
   "outputs": [],
   "source": [
    "for i in range(iterations):\n",
    "    ###########################################\n",
    "    # Generate the observed trial data sets \n",
    "    d = generate_observed(n1=2000, n0=2000)\n",
    "    \n",
    "    ###########################################\n",
    "    # Classical transitive estimator\n",
    "    classical = ClassicalEstimator(data=d, \n",
    "                                   treatment='A',\n",
    "                                   time='T', \n",
    "                                   delta='delta',\n",
    "                                   sample='S')\n",
    "    r = classical.estimate()\n",
    "    # Adding scaled bias to the storage \n",
    "    bias_classical += (np.asarray(r['RD']) - truth) / iterations\n",
    "    \n",
    "    ###########################################\n",
    "    # Bridged treatment comparison\n",
    "    bridged = BridgeEstimator(data=d, treatment='A',\n",
    "                              time='T', delta='delta',\n",
    "                              sample='S')\n",
    "    bridged.sampling_model(\"X\")     # Inverse odds weight model includes age\n",
    "    r = bridged.estimate()          # Estiamte with weighted EDF\n",
    "    # Adding scaled bias to the storage \n",
    "    bias_bridged += (np.asarray(r['RD']) - truth) / iterations\n"
   ]
  },
  {
   "cell_type": "markdown",
   "id": "20144a12",
   "metadata": {},
   "source": [
    "### Plotting results\n",
    "\n",
    "The following plots the results of the simulation. As shown, the transitive comparison under-estimates the risk difference at times before 200 days and over-estimates the risk difference at times after 200 days. The bridged treatment comparison estimator correctly accounted for age and had near zero bias."
   ]
  },
  {
   "cell_type": "code",
   "execution_count": 8,
   "id": "500e9d07",
   "metadata": {},
   "outputs": [
    {
     "data": {
      "image/png": "[encoded data removed]",
      "text/plain": [
       "<Figure size 432x288 with 1 Axes>"
      ]
     },
     "metadata": {
      "needs_background": "light"
     },
     "output_type": "display_data"
    }
   ],
   "source": [
    "# Plot for inline of notebook\n",
    "plt.plot(bias_classical, range(0, 366), '-', color='red')\n",
    "plt.plot(bias_bridged, range(0, 366), '-', color='blue')\n",
    "plt.vlines(0, 0, 365, colors='gray', linestyles='--')\n",
    "plt.ylim([0, 365])\n",
    "plt.yticks([0, 100, 200, 300, 365])\n",
    "plt.ylabel(\"Days\")\n",
    "plt.xlim([-0.10, 0.10])\n",
    "plt.xticks([-0.1, -0.05, 0, 0.05, 0.1])\n",
    "plt.xlabel(\"Bias of the Risk Difference\")\n",
    "plt.tight_layout()"
   ]
  },
  {
   "cell_type": "code",
   "execution_count": 9,
   "id": "af351be4",
   "metadata": {},
   "outputs": [],
   "source": [
    "# Saving figure as png\n",
    "plt.figure(figsize=[3, 4.5])\n",
    "plt.plot(bias_classical, range(0, 366), '-', color='red')\n",
    "plt.plot(bias_bridged, range(0, 366), '-', color='blue')\n",
    "plt.vlines(0, 0, 365, colors='gray', linestyles='--')\n",
    "plt.ylim([0, 365])\n",
    "plt.yticks([0, 100, 200, 300, 365])\n",
    "plt.ylabel(\"Days\")\n",
    "plt.xlim([-0.10, 0.10])\n",
    "plt.xticks([-0.1, -0.05, 0, 0.05, 0.1])\n",
    "plt.xlabel(\"Bias of the Risk Difference\")\n",
    "plt.tight_layout()\n",
    "plt.savefig(\"figure_sim_result.png\", format='png', dpi=300)\n",
    "plt.close()"
   ]
  },
  {
   "cell_type": "markdown",
   "id": "6c649b1e",
   "metadata": {},
   "source": [
    "END"
   ]
  }
 ],
 "metadata": {
  "kernelspec": {
   "display_name": "Python 3",
   "language": "python",
   "name": "python3"
  },
  "language_info": {
   "codemirror_mode": {
    "name": "ipython",
    "version": 3
   },
   "file_extension": ".py",
   "mimetype": "text/x-python",
   "name": "python",
   "nbconvert_exporter": "python",
   "pygments_lexer": "ipython3",
   "version": "3.6.8"
  }
 },
 "nbformat": 4,
 "nbformat_minor": 5
}
